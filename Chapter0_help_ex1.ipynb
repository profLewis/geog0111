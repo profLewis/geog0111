{
 "cells": [
  {
   "cell_type": "markdown",
   "metadata": {},
   "source": [
    "### Exercise 0.1: List help\n",
    "\n",
    "* Read through the help information for the list class.\n",
    "* create a list called `alist` and `blist`:\n",
    "\n",
    "        alist = ['one','three','two']\n",
    "        blist = ['four','six','zero']\n",
    "    \n",
    "* print these.\n",
    "* Using the help information, develop code to:\n",
    "\n",
    "    * extend `alist` with `blist` to create `['one','three','two','four','six','zero']`. N.B. This is not quite the same as our use of `append()` above.\n",
    "    * sort the new `alist` into **alpabetical order** and print the results\n",
    "\n",
    "\n",
    "Note that you can print the lists with:\n",
    "\n",
    "        print(alist,blist)\n",
    "    "
   ]
  },
  {
   "cell_type": "code",
   "execution_count": 3,
   "metadata": {},
   "outputs": [
    {
     "name": "stdout",
     "output_type": "stream",
     "text": [
      "['one', 'three', 'two'] ['four', 'six', 'zero']\n"
     ]
    }
   ],
   "source": [
    "# E0.1 list help\n",
    "# do the exercise here \n",
    "alist = ['one','three','two']\n",
    "blist = ['four','six','zero']\n",
    "print(alist,blist)\n",
    "# join\n",
    "\n",
    "# sort\n"
   ]
  },
  {
   "cell_type": "code",
   "execution_count": 4,
   "metadata": {},
   "outputs": [
    {
     "data": {
      "application/javascript": [
       "document.write('<link rel=\"stylesheet\" href=\"https://github.githubassets.com/assets/gist-embed-31007ea0d3bd9f80540adfbc55afc7bd.css\">')\n",
       "document.write('<div id=\\\"gist103176607\\\" class=\\\"gist\\\">\\n    <div class=\\\"gist-file\\\">\\n      <div class=\\\"gist-data\\\">\\n        <div class=\\\"js-gist-file-update-container js-task-list-container file-box\\\">\\n  <div id=\\\"file-chapter0_help_ex1-ipynb\\\" class=\\\"file\\\">\\n    \\n\\n  <div itemprop=\\\"text\\\" class=\\\"Box-body p-0 blob-wrapper data type-jupyter-notebook \\\">\\n      \\n  <div class=\\\"render-wrapper \\\">\\n    <div class=\\\"render-container is-render-pending js-render-target  \\\"\\n      data-identity=\\\"9271ed17-213e-490c-98c2-4fbab9fb4a78\\\"\\n      data-host=\\\"https://render.githubusercontent.com\\\"\\n      data-type=\\\"ipynb\\\">\\n      <img class=\\\"octospinner mx-auto\\\" alt=\\\"\\\" src=\\\"https://github.githubassets.com/images/spinners/octocat-spinner-128.gif\\\" width=\\\"64\\\" height=\\\"64\\\" />\\n      <div class=\\\"render-viewer-error\\\">Sorry, something went wrong. <a href=\\\"https://gist.github.com/profLewis/9a85e13cfc835e7cb9fb25a930ca7dd1.js\\\">Reload?<\\/a><\\/div>\\n      <div class=\\\"render-viewer-fatal\\\">Sorry, we cannot display this file.<\\/div>\\n      <div class=\\\"render-viewer-invalid\\\">Sorry, this file is invalid so it cannot be displayed.<\\/div>\\n      <iframe class=\\\"render-viewer \\\" src=\\\"https://render.githubusercontent.com/view/ipynb?commit=bf40bbb9590efd232a69e1e1c9b6a39d592438ce&amp;enc_url=68747470733a2f2f7261772e67697468756275736572636f6e74656e742e636f6d2f676973742f70726f664c657769732f39613835653133636663383335653763623966623235613933306361376464312f7261772f626634306262623935393065666432333261363965316531633962366133396435393234333863652f43686170746572305f68656c705f6578312e6970796e62&amp;nwo=profLewis%2F9a85e13cfc835e7cb9fb25a930ca7dd1&amp;path=Chapter0_help_ex1.ipynb&amp;repository_id=103176607&amp;repository_type=Gist#9271ed17-213e-490c-98c2-4fbab9fb4a78\\\" sandbox=\\\"allow-scripts allow-same-origin allow-top-navigation\\\" title=\\\"File display\\\">\\n          Viewer requires iframe.\\n      <\\/iframe>\\n    <\\/div>\\n  <\\/div>\\n\\n  <\\/div>\\n\\n  <\\/div>\\n<\\/div>\\n\\n      <\\/div>\\n      <div class=\\\"gist-meta\\\">\\n        <a href=\\\"https://gist.github.com/profLewis/9a85e13cfc835e7cb9fb25a930ca7dd1/raw/bf40bbb9590efd232a69e1e1c9b6a39d592438ce/Chapter0_help_ex1.ipynb\\\" style=\\\"float:right\\\">view raw<\\/a>\\n        <a href=\\\"https://gist.github.com/profLewis/9a85e13cfc835e7cb9fb25a930ca7dd1#file-chapter0_help_ex1-ipynb\\\">Chapter0_help_ex1.ipynb<\\/a>\\n        hosted with &#10084; by <a href=\\\"https://github.com\\\">GitHub<\\/a>\\n      <\\/div>\\n    <\\/div>\\n<\\/div>\\n')\n"
      ],
      "text/plain": [
       "<IPython.core.display.Javascript object>"
      ]
     },
     "metadata": {},
     "output_type": "display_data"
    }
   ],
   "source": [
    "%%js\n",
    "https://gist.github.com/profLewis/9a85e13cfc835e7cb9fb25a930ca7dd1.js"
   ]
  },
  {
   "cell_type": "code",
   "execution_count": null,
   "metadata": {},
   "outputs": [],
   "source": []
  }
 ],
 "metadata": {
  "gist": {
   "data": {
    "description": "geog0111-1.ipynb",
    "public": true
   },
   "id": ""
  },
  "kernelspec": {
   "display_name": "Python 3",
   "language": "python",
   "name": "python3"
  },
  "language_info": {
   "codemirror_mode": {
    "name": "ipython",
    "version": 3
   },
   "file_extension": ".py",
   "mimetype": "text/x-python",
   "name": "python",
   "nbconvert_exporter": "python",
   "pygments_lexer": "ipython3",
   "version": "3.7.4"
  }
 },
 "nbformat": 4,
 "nbformat_minor": 4
}
