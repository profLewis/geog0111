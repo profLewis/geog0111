{
 "cells": [
  {
   "cell_type": "markdown",
   "metadata": {},
   "source": [
    "### Exercise 0.1: List help\n",
    "\n",
    "* Read through the help information for the list class.\n",
    "* create a list called `alist` and `blist`:\n",
    "\n",
    "        alist = ['one','three','two']\n",
    "        blist = ['four','six','zero']\n",
    "    \n",
    "* print these.\n",
    "* Using the help information, develop code to:\n",
    "\n",
    "    * extend `alist` with `blist` to create `['one','three','two','four','six','zero']`. N.B. This is not quite the same as our use of `append()` above.\n",
    "    * sort the new `alist` into **alpabetical order** and print the results\n",
    "\n",
    "\n",
    "Note that you can print the lists with:\n",
    "\n",
    "        print(alist,blist)\n",
    "    "
   ]
  },
  {
   "cell_type": "code",
   "execution_count": 1,
   "metadata": {},
   "outputs": [
    {
     "name": "stdout",
     "output_type": "stream",
     "text": [
      "['one', 'three', 'two'] ['four', 'six', 'zero']\n"
     ]
    }
   ],
   "source": [
    "# E1.1.1 list help\n",
    "# do the exercise here \n",
    "alist = ['one','three','two']\n",
    "blist = ['four','six','zero']\n",
    "print(alist,blist)\n",
    "# join\n",
    "\n",
    "# sort\n"
   ]
  },
  {
   "cell_type": "code",
   "execution_count": 3,
   "metadata": {},
   "outputs": [
    {
     "name": "stdout",
     "output_type": "stream",
     "text": [
      "['one', 'three', 'two'] ['four', 'six', 'zero']\n",
      "extended ['one', 'three', 'two', 'four', 'six', 'zero']\n",
      "sorted ['four', 'one', 'six', 'three', 'two', 'zero']\n"
     ]
    }
   ],
   "source": [
    "# E1.1.1 list help\n",
    "# ANSWERS\n",
    "alist = ['one','three','two']\n",
    "blist = ['four','six','zero']\n",
    "print(alist,blist)\n",
    "# join\n",
    "alist.extend(blist)\n",
    "print(\"extended\",alist)\n",
    "# sort\n",
    "alist.sort()\n",
    "print(\"sorted\",alist)"
   ]
  },
  {
   "cell_type": "markdown",
   "metadata": {},
   "source": [
    "**E1.2.1 Exercise**\n",
    "\n",
    "Let's use that knowledge to learn something new:\n",
    "\n",
    "* Use online material from [https://www.w3schools.com](https://www.w3schools.com/python) or elsewhere to learn the basics of `for` loops.\n",
    "* Find help for the class `range` to understand how to use this to generate a sequence of integers from 10 to 1 in steps of -1\n",
    "* Use what you have learned to write a `for` loop below that counts backwards from 10 to 0"
   ]
  },
  {
   "cell_type": "code",
   "execution_count": 1,
   "metadata": {},
   "outputs": [
    {
     "name": "stdout",
     "output_type": "stream",
     "text": [
      "10\n",
      "9\n",
      "8\n",
      "7\n",
      "6\n",
      "5\n",
      "4\n",
      "3\n",
      "2\n",
      "1\n"
     ]
    }
   ],
   "source": [
    "## A1.2.1 ANSWER to Exercise E1.2.1\n",
    "# E1.2.1 Exercise answer\n",
    "for i in range(10,0,-1):\n",
    "    print(i)"
   ]
  },
  {
   "cell_type": "code",
   "execution_count": null,
   "metadata": {},
   "outputs": [],
   "source": []
  }
 ],
 "metadata": {
  "kernelspec": {
   "display_name": "Python 3",
   "language": "python",
   "name": "python3"
  },
  "language_info": {
   "codemirror_mode": {
    "name": "ipython",
    "version": 3
   },
   "file_extension": ".py",
   "mimetype": "text/x-python",
   "name": "python",
   "nbconvert_exporter": "python",
   "pygments_lexer": "ipython3",
   "version": "3.7.4"
  }
 },
 "nbformat": 4,
 "nbformat_minor": 4
}
